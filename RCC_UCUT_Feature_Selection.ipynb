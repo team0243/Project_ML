{
  "nbformat": 4,
  "nbformat_minor": 0,
  "metadata": {
    "colab": {
      "private_outputs": true,
      "provenance": [],
      "authorship_tag": "ABX9TyNEH42Mf28T+dnywxJ4wq+u",
      "include_colab_link": true
    },
    "kernelspec": {
      "name": "python3",
      "display_name": "Python 3"
    },
    "language_info": {
      "name": "python"
    }
  },
  "cells": [
    {
      "cell_type": "markdown",
      "metadata": {
        "id": "view-in-github",
        "colab_type": "text"
      },
      "source": [
        "<a href=\"https://colab.research.google.com/github/team0243/Project_ML/blob/main/RCC_UCUT_Feature_Selection.ipynb\" target=\"_parent\"><img src=\"https://colab.research.google.com/assets/colab-badge.svg\" alt=\"Open In Colab\"/></a>"
      ]
    },
    {
      "cell_type": "code",
      "execution_count": null,
      "metadata": {
        "id": "YPfWVho98rw8"
      },
      "outputs": [],
      "source": [
        "# Importing the Python libraries\n",
        "import pandas as pd\n",
        "import numpy as np\n",
        "import matplotlib.pyplot as plt\n",
        "import seaborn as sns\n",
        "import plotly.express as px\n",
        "import plotly.graph_objects as go\n",
        "from imblearn.over_sampling import SMOTE\n",
        "from sklearn.model_selection import train_test_split\n",
        "from sklearn.preprocessing import StandardScaler\n",
        "from sklearn.feature_selection import RFE\n",
        "from sklearn.feature_selection import SelectKBest, chi2\n",
        "from sklearn.tree import DecisionTreeClassifier\n",
        "from sklearn.ensemble import RandomForestClassifier\n",
        "from sklearn.linear_model import LogisticRegression\n",
        "from sklearn.neighbors import KNeighborsClassifier\n",
        "from sklearn.svm import SVC\n",
        "from sklearn.neural_network import MLPClassifier\n",
        "from sklearn.ensemble import GradientBoostingClassifier\n",
        "from sklearn.model_selection import GridSearchCV\n",
        "from sklearn.model_selection import cross_val_predict\n",
        "from sklearn.metrics import accuracy_score, classification_report, confusion_matrix, roc_curve, roc_auc_score\n",
        "from sklearn.model_selection import StratifiedKFold\n",
        "import warnings\n",
        "warnings.filterwarnings('ignore')\n",
        "from sklearn.tree import plot_tree"
      ]
    },
    {
      "cell_type": "markdown",
      "source": [
        "Perform Machine learning using biobank_RCC_UTUC dataset"
      ],
      "metadata": {
        "id": "PjGOFHZ09Mrr"
      }
    },
    {
      "cell_type": "code",
      "source": [
        "df = pd.read_excel('Dataset_RCC_UTUC.xlsx') # replace 'your_file.xlsx' with your file"
      ],
      "metadata": {
        "id": "6xnPU4T09VIW"
      },
      "execution_count": null,
      "outputs": []
    },
    {
      "cell_type": "code",
      "source": [
        "# Prints information about a DataFrame\n",
        "df.info()"
      ],
      "metadata": {
        "id": "p17kztxC9sTj"
      },
      "execution_count": null,
      "outputs": []
    },
    {
      "cell_type": "code",
      "source": [
        "# Count NaN values in DataFrame\n",
        "\n",
        "df.isna().sum()\n"
      ],
      "metadata": {
        "id": "-2c8NpH197bT"
      },
      "execution_count": null,
      "outputs": []
    },
    {
      "cell_type": "code",
      "source": [
        "# descriptive statistic  in the DataFrame\n",
        "df.describe().round(2)"
      ],
      "metadata": {
        "id": "e-1jA1Da-J7T"
      },
      "execution_count": null,
      "outputs": []
    },
    {
      "cell_type": "code",
      "source": [
        "#sns.pairplot(df, hue = '')\n",
        "sns.pairplot(df, hue = 'Diagnosis')\n",
        "plt.show()"
      ],
      "metadata": {
        "id": "npn62VcR-yE9"
      },
      "execution_count": null,
      "outputs": []
    },
    {
      "cell_type": "code",
      "source": [
        "# Verify column names in your DataFrame\n",
        "print(df.columns)\n"
      ],
      "metadata": {
        "id": "VwKZ2f6K_-b8"
      },
      "execution_count": null,
      "outputs": []
    },
    {
      "cell_type": "code",
      "source": [
        "# Pass the columns to be dropped as a list, ensuring correct names\n",
        "#columns_to_drop = ['HN', 'PLR']  # Adjust if needed based on actual column names\n",
        "#X = df['NLR']\n",
        "#y = df['PLR']\n",
        "#Z = df.drop(columns_to_drop, axis='columns')"
      ],
      "metadata": {
        "id": "Fn0CIO41C-HL"
      },
      "execution_count": null,
      "outputs": []
    },
    {
      "cell_type": "code",
      "source": [
        "X = df[[ 'Age ','NLR','PLR','WBC','PLT','PMN','Lymp']]\n",
        "#X = df.drop(['Diagnosis'], axis = 'columns')\n",
        "y = df['Diagnosis_num']"
      ],
      "metadata": {
        "id": "JPyr9FqS8mNJ"
      },
      "execution_count": null,
      "outputs": []
    },
    {
      "cell_type": "code",
      "source": [
        "# prompt: show X data frame\n",
        "X.head(5)"
      ],
      "metadata": {
        "id": "sp3O6fF1CeEm"
      },
      "execution_count": null,
      "outputs": []
    },
    {
      "cell_type": "code",
      "source": [
        "X.shape, y.shape"
      ],
      "metadata": {
        "id": "uzxnIdbXALzL"
      },
      "execution_count": null,
      "outputs": []
    },
    {
      "cell_type": "code",
      "source": [
        "# To solve the imbalance problem between categories 0 and 1.\n",
        "# Apply SMOTE (Synthetic Minority Oversampling Technique) – Oversampling\n",
        "\n",
        "sm = SMOTE(sampling_strategy = 0.96 ,random_state = 55)\n",
        "X_resampled, y_resampled = sm.fit_resample(X,y)"
      ],
      "metadata": {
        "id": "CWVD31IU9aXE"
      },
      "execution_count": null,
      "outputs": []
    },
    {
      "cell_type": "code",
      "source": [
        "X_train, X_test, y_train, y_test = train_test_split(X_resampled, y_resampled, test_size = 0.3, random_state = 50)"
      ],
      "metadata": {
        "id": "df2nnkPLW9hF"
      },
      "execution_count": null,
      "outputs": []
    },
    {
      "cell_type": "code",
      "source": [
        "#X.shape, y.shape, X_resampled.shape, y_resampled.shape"
      ],
      "metadata": {
        "id": "cXbQG20y-OFa"
      },
      "execution_count": null,
      "outputs": []
    },
    {
      "cell_type": "code",
      "source": [
        "#y.value_counts(), y_resampled.value_counts()"
      ],
      "metadata": {
        "id": "b15pDlWn-lAa"
      },
      "execution_count": null,
      "outputs": []
    },
    {
      "cell_type": "code",
      "source": [
        "#X_train, X_test, y_train, y_test = train_test_split(X, y, test_size = 0.2, random_state = 50)"
      ],
      "metadata": {
        "id": "u7-9fj7oPc4E"
      },
      "execution_count": null,
      "outputs": []
    },
    {
      "cell_type": "code",
      "source": [
        "y_train.value_counts(), y_test.value_counts()"
      ],
      "metadata": {
        "id": "FZgvQDf6Sfkx"
      },
      "execution_count": null,
      "outputs": []
    },
    {
      "cell_type": "code",
      "source": [
        "n_features = [7,6,5,4,3,2,1]\n",
        "\n",
        "model = DecisionTreeClassifier()\n",
        "column_names = X.columns.tolist()"
      ],
      "metadata": {
        "id": "fLvdfyun_XYP"
      },
      "execution_count": null,
      "outputs": []
    },
    {
      "cell_type": "code",
      "source": [
        "# Iterate over the n_features_to_select values\n",
        "for n in n_features:\n",
        "    rfe = RFE(estimator = model, n_features_to_select = n)\n",
        "\n",
        "    rfe.fit(X_train, y_train)\n",
        "\n",
        "    selected_feature_indices = [i for i, support in enumerate(rfe.support_) if support]\n",
        "\n",
        "    X_train_selected = X_train.iloc[:, selected_feature_indices]\n",
        "    X_test_selected = X_test.iloc[:, selected_feature_indices]\n",
        "\n",
        "    model.fit(X_train_selected, y_train)\n",
        "\n",
        "    y_pred = model.predict(X_test_selected)\n",
        "\n",
        "    # Calculate the accuracy score\n",
        "    accuracy = accuracy_score(y_test, y_pred)\n",
        "\n",
        "    # Print the selected features and accuracy\n",
        "    print(f\"Number of Selected Features = {n}\")\n",
        "    print(\"Selected Features\")\n",
        "    for col in X_train_selected.columns:\n",
        "        print(col)\n",
        "    print(\"-------------------------------------------\")\n",
        "    print(\"Accuracy:\", accuracy)\n",
        "    print(\"-------------------------------------------\")\n",
        "    print(\"Classification report\")\n",
        "    print()\n",
        "    print(classification_report(y_test, y_pred))\n",
        "    print(\"-------------------------------------------\")"
      ],
      "metadata": {
        "id": "sSQ7ZOTuU2pc"
      },
      "execution_count": null,
      "outputs": []
    },
    {
      "cell_type": "code",
      "source": [
        "# Select   6 best features from RFE\n",
        "#cols = ['Age ','NLR','PLR','WBC','PLT','PMN']"
      ],
      "metadata": {
        "id": "ouLvDhKcAgPo"
      },
      "execution_count": null,
      "outputs": []
    },
    {
      "cell_type": "code",
      "source": [
        "# Select  4 best features from RFE\n",
        "cols = ['Age ','PLR','WBC','PLT']"
      ],
      "metadata": {
        "id": "qUVXFHrB1bwV"
      },
      "execution_count": null,
      "outputs": []
    },
    {
      "cell_type": "code",
      "source": [
        "X_bf = df[cols]\n",
        "y_bf = df['Diagnosis_num']"
      ],
      "metadata": {
        "id": "UAa0YY0jA2fj"
      },
      "execution_count": null,
      "outputs": []
    },
    {
      "cell_type": "code",
      "source": [
        "sm = SMOTE(sampling_strategy = 0.95 ,random_state = 50)\n",
        "X_resampled_bf, y_resampled_bf = sm.fit_resample(X_bf ,y_bf)"
      ],
      "metadata": {
        "id": "xK2wM8Hf6RI4"
      },
      "execution_count": null,
      "outputs": []
    },
    {
      "cell_type": "code",
      "source": [
        "# Split data into train and test set\n",
        "X_train, X_test, y_train, y_test = train_test_split(X_resampled_bf, y_resampled_bf, test_size = 0.3, random_state = 50)"
      ],
      "metadata": {
        "id": "Nwrn8JPOAPES"
      },
      "execution_count": null,
      "outputs": []
    },
    {
      "cell_type": "code",
      "source": [
        "y_bf.value_counts(),y_train.value_counts(),y_test.value_counts()"
      ],
      "metadata": {
        "id": "qbt-KWvFBI_6"
      },
      "execution_count": null,
      "outputs": []
    },
    {
      "cell_type": "code",
      "source": [
        "# Standardizing data with StandardScaler() function\n",
        "sc = StandardScaler()\n",
        "X_train =  sc.fit_transform(X_train)\n",
        "X_test =  sc.fit_transform(X_test)"
      ],
      "metadata": {
        "id": "2k2uEH_6BL0r"
      },
      "execution_count": null,
      "outputs": []
    },
    {
      "cell_type": "markdown",
      "source": [
        "### Perform supervised machine learning algorithms\n",
        "* K-nearest neighbors\n",
        "* Decision tree\n",
        "* Random forest\n",
        "* Support vector machine\n",
        "* Artificial neural network"
      ],
      "metadata": {
        "id": "SCihsjK_BS_M"
      }
    },
    {
      "cell_type": "code",
      "source": [
        "models = {'Logistic Regression': LogisticRegression(),\n",
        "          'K-Nearest Neighbors ': KNeighborsClassifier(),\n",
        "          'Decision Tree': DecisionTreeClassifier(),\n",
        "          'Random Forest': RandomForestClassifier(),\n",
        "          'Support Vector Machine': SVC(),\n",
        "          'Multilayer Perceptron': MLPClassifier()}"
      ],
      "metadata": {
        "id": "I7Zy_Dg8BPC6"
      },
      "execution_count": null,
      "outputs": []
    },
    {
      "cell_type": "code",
      "source": [
        "#Define function for determining of model scores\n",
        "def model_score(models, X_train, X_test, y_train, y_test):\n",
        "    np.random.seed(50)\n",
        "    model_scores = {}\n",
        "    for model_name, model in models.items():\n",
        "        model.fit(X_train, y_train)\n",
        "        model_scores[model_name] = model.score(X_test, y_test)\n",
        "    model_scores = pd.DataFrame(model_scores, index=['Score']).transpose()\n",
        "    model_scores = model_scores.sort_values('Score', ascending=False)\n",
        "    return model_scores"
      ],
      "metadata": {
        "id": "4R6nVk7nBxci"
      },
      "execution_count": null,
      "outputs": []
    },
    {
      "cell_type": "code",
      "source": [
        "supervised_model_scores = model_score(models, X_train, X_test, y_train, y_test)\n",
        "supervised_model_scores.style.background_gradient(cmap = 'Greens')"
      ],
      "metadata": {
        "id": "QQ-DPd-RB0Xj"
      },
      "execution_count": null,
      "outputs": []
    },
    {
      "cell_type": "markdown",
      "source": [],
      "metadata": {
        "id": "MWWsTLVg9ip4"
      }
    },
    {
      "cell_type": "code",
      "source": [
        "dt = DecisionTreeClassifier(random_state=50)\n",
        "param_grid = {'max_depth': [3, 5, 7, 10],\n",
        "              'min_samples_split': [2, 5, 10],\n",
        "              'min_samples_leaf': [1, 2, 4],\n",
        "              'criterion': ['gini', 'entropy']}\n",
        "cv = StratifiedKFold(n_splits=3, shuffle=True, random_state=50)"
      ],
      "metadata": {
        "id": "LUvWA4rfB9-y"
      },
      "execution_count": null,
      "outputs": []
    },
    {
      "cell_type": "code",
      "source": [
        "# Use GridSearchCV to find the best hyperparameters\n",
        "grid_search = GridSearchCV(dt, param_grid=param_grid, cv=cv, n_jobs=-1, verbose=3)\n",
        "grid_search.fit(X_train, y_train)\n",
        "print(\"Best parameters for decision tree:\")\n",
        "print(grid_search.best_params_)\n",
        "print(\"Best score for decision tree: {:.2f}%\".format(grid_search.best_score_*100))"
      ],
      "metadata": {
        "id": "yywEjVyBCHH3"
      },
      "execution_count": null,
      "outputs": []
    },
    {
      "cell_type": "code",
      "source": [
        "# Evaluate the decision tree model's performance on the testing data\n",
        "#from sklearn.metrics import accuracy_score, classification_report, plot_confusion_matrix, plot_roc_curve\n",
        "y_pred = grid_search.predict(X_test)\n",
        "test_accuracy = accuracy_score(y_test, y_pred)\n",
        "print(\"Accuracy of decision tree on testing data: {:.2f}%\".format(test_accuracy*100))\n",
        "print()\n",
        "print(classification_report(y_test, y_pred))"
      ],
      "metadata": {
        "id": "mdbWm6KmCOR4"
      },
      "execution_count": null,
      "outputs": []
    },
    {
      "cell_type": "code",
      "source": [
        "# Import necessary libraries\n",
        "from sklearn.metrics import confusion_matrix,RocCurveDisplay\n",
        "import matplotlib.pyplot as plt\n",
        "import seaborn as sns\n",
        "\n",
        "# Calculate the confusion matrix\n",
        "cm = confusion_matrix(y_pred,y_test)\n",
        "\n",
        "# Plot the confusion matrix using Seaborn\n",
        "sns.heatmap(cm, annot=True, cmap=plt.cm.Blues, fmt='g')\n",
        "plt.title('Confusion Matrix (RF)', fontsize=16)\n",
        "plt.xlabel('Predicted Label', fontsize=14)\n",
        "plt.ylabel('True Label', fontsize=14)\n",
        "plt.show()"
      ],
      "metadata": {
        "id": "28L25szbChkI"
      },
      "execution_count": null,
      "outputs": []
    },
    {
      "cell_type": "code",
      "source": [
        "RocCurveDisplay.from_estimator(grid_search, X_test, y_test)\n",
        "plt.show()"
      ],
      "metadata": {
        "id": "zONbhleBD4ii"
      },
      "execution_count": null,
      "outputs": []
    },
    {
      "cell_type": "code",
      "source": [
        "# Import necessary libraries\n",
        "from sklearn.tree import plot_tree\n",
        "import matplotlib.pyplot as plt\n",
        "\n",
        "# Plot the decision tree\n",
        "plt.figure(figsize = (10, 8))\n",
        "\n",
        "# Determine the actual number of features in your dataset\n",
        "num_features = X_train.shape[1] # Get the number of columns in X_train\n",
        "\n",
        "# Create a list of feature names with the correct length\n",
        "feature_names = [f'feature_{i}' for i in range(num_features)]\n",
        "\n",
        "plot_tree(grid_search.best_estimator_, feature_names=feature_names,\n",
        "          class_names=['Class 0', 'Class 1'], filled=True)\n",
        "plt.title('Decision Tree', fontsize=16)\n",
        "plt.show()"
      ],
      "metadata": {
        "id": "3B5pPcQ17ohw"
      },
      "execution_count": null,
      "outputs": []
    }
  ]
}