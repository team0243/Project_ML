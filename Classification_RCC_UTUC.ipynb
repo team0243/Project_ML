{
  "nbformat": 4,
  "nbformat_minor": 0,
  "metadata": {
    "colab": {
      "private_outputs": true,
      "provenance": [],
      "gpuType": "T4",
      "authorship_tag": "ABX9TyOwpGlqkbSVOOPerKqLE5Ja",
      "include_colab_link": true
    },
    "kernelspec": {
      "name": "python3",
      "display_name": "Python 3"
    },
    "language_info": {
      "name": "python"
    },
    "accelerator": "GPU"
  },
  "cells": [
    {
      "cell_type": "markdown",
      "metadata": {
        "id": "view-in-github",
        "colab_type": "text"
      },
      "source": [
        "<a href=\"https://colab.research.google.com/github/team0243/Project_ML/blob/main/Classification_RCC_UTUC.ipynb\" target=\"_parent\"><img src=\"https://colab.research.google.com/assets/colab-badge.svg\" alt=\"Open In Colab\"/></a>"
      ]
    },
    {
      "cell_type": "code",
      "execution_count": null,
      "metadata": {
        "id": "5JMCl6KHUZDW"
      },
      "outputs": [],
      "source": [
        "# Importing the Python libraries\n",
        "import pandas as pd\n",
        "import numpy as np\n",
        "import matplotlib.pyplot as plt\n",
        "import seaborn as sns\n",
        "import plotly.express as px\n",
        "import plotly.graph_objects as go\n",
        "from imblearn.over_sampling import SMOTE\n",
        "from sklearn.model_selection import train_test_split\n",
        "from sklearn.preprocessing import StandardScaler\n",
        "from sklearn.feature_selection import RFE\n",
        "from sklearn.feature_selection import SelectKBest, chi2\n",
        "from sklearn.tree import DecisionTreeClassifier\n",
        "from sklearn.ensemble import RandomForestClassifier\n",
        "from sklearn.linear_model import LogisticRegression\n",
        "from sklearn.neighbors import KNeighborsClassifier\n",
        "from sklearn.svm import SVC\n",
        "from sklearn.neural_network import MLPClassifier\n",
        "from sklearn.ensemble import GradientBoostingClassifier\n",
        "from sklearn.model_selection import GridSearchCV\n",
        "from sklearn.model_selection import cross_val_predict\n",
        "from sklearn.metrics import accuracy_score, classification_report, confusion_matrix, roc_curve, roc_auc_score\n",
        "from sklearn.model_selection import StratifiedKFold\n",
        "import warnings\n",
        "warnings.filterwarnings('ignore')\n",
        "from sklearn.tree import plot_tree"
      ]
    },
    {
      "cell_type": "markdown",
      "source": [
        "## Perform Machine learning in RCC_UTUC dataset"
      ],
      "metadata": {
        "id": "42kr0Sh9Uux9"
      }
    },
    {
      "cell_type": "code",
      "source": [
        "df2 = pd.read_excel('Dataset_RCC_UTUC.xlsx')\n",
        "df2.head()"
      ],
      "metadata": {
        "id": "QwHDtc_rUza0"
      },
      "execution_count": null,
      "outputs": []
    },
    {
      "cell_type": "code",
      "source": [
        "df2.Diagnosis.value_counts()"
      ],
      "metadata": {
        "id": "SjYQqwdUVnzu"
      },
      "execution_count": null,
      "outputs": []
    },
    {
      "cell_type": "code",
      "source": [
        "df2.columns"
      ],
      "metadata": {
        "id": "vBonHmxzVq-e"
      },
      "execution_count": null,
      "outputs": []
    },
    {
      "cell_type": "code",
      "source": [
        "cols_df2  = ['Age ','PLR','WBC','PLT','PMN','Lymp'] #Assume select best 6 feature"
      ],
      "metadata": {
        "id": "gI8ltpqYVwod"
      },
      "execution_count": null,
      "outputs": []
    },
    {
      "cell_type": "code",
      "source": [
        "# Extract features and target variables\n",
        "X2 = df2[cols_df2]\n",
        "y2 = df2['Diagnosis']"
      ],
      "metadata": {
        "id": "20kRwIgRV2zf"
      },
      "execution_count": null,
      "outputs": []
    },
    {
      "cell_type": "code",
      "source": [
        "# To solve the imbalance problem between categories 0 and 1.\n",
        "# Apply SMOTE (Synthetic Minority Oversampling Technique) – Oversampling\n",
        "\n",
        "sm = SMOTE(sampling_strategy = 0.95, random_state = 30)\n",
        "X_resampled, y_resampled = sm.fit_resample(X2, y2)"
      ],
      "metadata": {
        "id": "DoieTBfyV9pe"
      },
      "execution_count": null,
      "outputs": []
    },
    {
      "cell_type": "code",
      "source": [
        "X2.shape, y2.shape, X_resampled.shape, y_resampled.shape"
      ],
      "metadata": {
        "id": "U0wq8WRFWOu8"
      },
      "execution_count": null,
      "outputs": []
    },
    {
      "cell_type": "code",
      "source": [
        "y2.value_counts(), y_resampled.value_counts()"
      ],
      "metadata": {
        "id": "Lhadq1eYWgxm"
      },
      "execution_count": null,
      "outputs": []
    },
    {
      "cell_type": "code",
      "source": [
        "# Split data into train and test set\n",
        "X_train, X_test, y_train, y_test = train_test_split(X_resampled, y_resampled, test_size = 0.3, random_state = 50)"
      ],
      "metadata": {
        "id": "hHh-uLOiW4NX"
      },
      "execution_count": null,
      "outputs": []
    },
    {
      "cell_type": "code",
      "source": [
        "y_train.value_counts(), y_test.value_counts()"
      ],
      "metadata": {
        "id": "0q9ZGkHONYEH"
      },
      "execution_count": null,
      "outputs": []
    },
    {
      "cell_type": "code",
      "source": [
        "# Select ML models that are good for small datasets include logistic regression, decision trees, and random forests\n",
        "# More complex models (like SVM or MLP) require a large amount of data to generalize well\n",
        "\n",
        "models2 = {'Logistic Regression': LogisticRegression(),\n",
        "          'Decision Tree': DecisionTreeClassifier(),\n",
        "          'Random Forest': RandomForestClassifier(),\n",
        "          'Gradient Boosting': GradientBoostingClassifier()\n",
        "}"
      ],
      "metadata": {
        "id": "pv1uUyXaXskG"
      },
      "execution_count": null,
      "outputs": []
    },
    {
      "cell_type": "code",
      "source": [
        "def model_score(models, X_train, X_test, y_train, y_test):\n",
        "    np.random.seed(40)\n",
        "    model_scores = {}\n",
        "    for model_name, model in models.items(): # Use the 'models' argument here\n",
        "        model.fit(X_train, y_train)\n",
        "        model_scores[model_name] = model.score(X_test, y_test)\n",
        "    return pd.DataFrame(model_scores, index=['Score']).transpose()\n"
      ],
      "metadata": {
        "id": "RA2iTqlTaOeN"
      },
      "execution_count": null,
      "outputs": []
    },
    {
      "cell_type": "code",
      "source": [
        "supervised_model_scores = model_score(models2, X_train, X_test, y_train, y_test) # Pass 'models2' to the function\n",
        "supervised_model_scores.style.background_gradient(cmap = 'Blues')"
      ],
      "metadata": {
        "id": "CLfQKG-BamwO"
      },
      "execution_count": null,
      "outputs": []
    },
    {
      "cell_type": "code",
      "source": [
        "#data Visulization\n",
        "supervised_model_scores.plot(kind='barh', figsize=(5, 3))\n",
        "plt.title('Model Scores')\n",
        "plt.xlabel('Score')\n",
        "plt.ylabel('Models')\n",
        "plt.show()\n"
      ],
      "metadata": {
        "id": "V0t9c9ufaehP"
      },
      "execution_count": null,
      "outputs": []
    },
    {
      "cell_type": "markdown",
      "source": [
        "## Random Forest"
      ],
      "metadata": {
        "id": "vIGeWlRP48fd"
      }
    },
    {
      "cell_type": "code",
      "source": [
        "# Tuning the best parameters for Random Forest using GridSearchCV\n",
        "\n",
        "grid_values = {\n",
        "    'n_estimators': [100, 200, 300, 400, 500],\n",
        "    'max_features': ['auto', 'sqrt', 'log2'],\n",
        "    'max_depth' : [2, 3, 4, 5, 6, 7, 8, 9, 10],\n",
        "    'criterion' :['gini', 'entropy']\n",
        "}\n",
        "cross_validation = StratifiedKFold(n_splits = 3, shuffle=True, random_state= 42)\n",
        "rfc = RandomForestClassifier()"
      ],
      "metadata": {
        "id": "e0_cFHIo45it"
      },
      "execution_count": null,
      "outputs": []
    },
    {
      "cell_type": "code",
      "source": [
        "grid_search_RF = GridSearchCV(rfc, param_grid = grid_values, cv = cross_validation, n_jobs = -1, verbose = 3)\n",
        "grid_search_RF.fit(X_train, y_train)"
      ],
      "metadata": {
        "id": "TUSQW50L5KN9"
      },
      "execution_count": null,
      "outputs": []
    },
    {
      "cell_type": "code",
      "source": [
        "print(\"Best parameters for Random Forest:\")\n",
        "print(grid_search_RF.best_params_)\n",
        "accuracy = grid_search_RF.best_score_ *100\n",
        "print(\"Accuracy: {:.2f}%\".format(accuracy) )"
      ],
      "metadata": {
        "id": "T_YYwPBW5U-N"
      },
      "execution_count": null,
      "outputs": []
    },
    {
      "cell_type": "code",
      "source": [
        "y_prediction = grid_search_RF.predict(X_test)\n",
        "\n",
        "test_accuracy= accuracy_score(y_test, y_prediction)*100\n",
        "\n",
        "print(\"Accuracy of RF is: {:.2f}%\".format(test_accuracy))\n",
        "print()\n",
        "print(classification_report(y_test, y_prediction))"
      ],
      "metadata": {
        "id": "H2ZVbYjs6OCG"
      },
      "execution_count": null,
      "outputs": []
    },
    {
      "cell_type": "code",
      "source": [
        "# Import necessary libraries\n",
        "from sklearn.metrics import confusion_matrix,RocCurveDisplay\n",
        "import matplotlib.pyplot as plt\n",
        "import seaborn as sns\n",
        "\n",
        "# Calculate the confusion matrix\n",
        "cm = confusion_matrix(y_test,y_prediction )\n",
        "\n",
        "# Plot the confusion matrix using Seaborn\n",
        "sns.heatmap(cm, annot=True, cmap=plt.cm.Blues, fmt='g')\n",
        "plt.title('Confusion Matrix (RF)', fontsize=16)\n",
        "plt.xlabel('Predicted Label', fontsize=14)\n",
        "plt.ylabel('True Label', fontsize=14)\n",
        "plt.show()"
      ],
      "metadata": {
        "id": "DIE8YnYO7D3l"
      },
      "execution_count": null,
      "outputs": []
    },
    {
      "cell_type": "code",
      "source": [
        "RocCurveDisplay.from_estimator(grid_search_RF, X_test, y_test)\n",
        "plt.show()"
      ],
      "metadata": {
        "id": "niu-VcYn8m3O"
      },
      "execution_count": null,
      "outputs": []
    },
    {
      "cell_type": "markdown",
      "source": [
        "## Logistic Regression"
      ],
      "metadata": {
        "id": "63iKvJvY9LtO"
      }
    },
    {
      "cell_type": "code",
      "source": [
        "logreg = LogisticRegression(max_iter=10000)\n",
        "param_grid = {'C': [0.1, 1, 10, 100],\n",
        "              'penalty': ['l1', 'l2', 'elasticnet', 'none'],\n",
        "              'solver': ['lbfgs', 'liblinear', 'sag', 'saga']}\n",
        "cv = StratifiedKFold(n_splits=3, shuffle=True, random_state=50)"
      ],
      "metadata": {
        "id": "2NWMOBMc9OOu"
      },
      "execution_count": null,
      "outputs": []
    },
    {
      "cell_type": "code",
      "source": [
        "# Use GridSearchCV to find the best hyperparameters\n",
        "grid_search_lr = GridSearchCV(logreg, param_grid=param_grid, cv=cv, n_jobs=-1, verbose=3)\n",
        "grid_search_lr.fit(X_train, y_train)\n",
        "print(\"Best parameters for logistic regression:\")\n",
        "print(grid_search_lr.best_params_)\n",
        "print(\"Best score for logistic regression: {:.2f}%\".format(grid_search_lr.best_score_*100))"
      ],
      "metadata": {
        "id": "UbJ9sWiY9V5f"
      },
      "execution_count": null,
      "outputs": []
    },
    {
      "cell_type": "code",
      "source": [
        "# Evaluate the logistic regression model's performance on the testing data\n",
        "from sklearn.metrics import accuracy_score, classification_report, confusion_matrix,RocCurveDisplay\n",
        "y_pred_lr = grid_search_lr.predict(X_test)\n",
        "test_accuracy = accuracy_score(y_test, y_pred_lr)\n",
        "print(\"Accuracy of logistic regression on testing data: {:.2f}%\".format(test_accuracy*100))\n",
        "print()\n",
        "print(classification_report(y_test, y_pred_lr))"
      ],
      "metadata": {
        "id": "Su6AclHY9sF-"
      },
      "execution_count": null,
      "outputs": []
    },
    {
      "cell_type": "code",
      "source": [
        "# Calculate the confusion matrix\n",
        "cm_lr = confusion_matrix(y_test, y_pred_lr)\n",
        "\n",
        "# Plot the confusion matrix using Seaborn\n",
        "sns.heatmap(cm_lr, annot=True, cmap=plt.cm.Blues, fmt='g')\n",
        "plt.title('Confusion Matrix (logistic regression)', fontsize=16)\n",
        "plt.xlabel('Predicted Label', fontsize=14)\n",
        "plt.ylabel('True Label', fontsize=14)\n",
        "plt.show()"
      ],
      "metadata": {
        "id": "QDh7koVN-7Uu"
      },
      "execution_count": null,
      "outputs": []
    },
    {
      "cell_type": "code",
      "source": [
        "y_test.value_counts() #data for Test"
      ],
      "metadata": {
        "id": "CgKUTO5AUUWB"
      },
      "execution_count": null,
      "outputs": []
    },
    {
      "cell_type": "code",
      "source": [
        "# Convert the NumPy array to a Pandas Series\n",
        "y_pred_lr_series = pd.Series(y_pred_lr)\n",
        "\n",
        "y_pred_lr_series.value_counts() #data for Predict"
      ],
      "metadata": {
        "id": "VmJLt2DfVM_B"
      },
      "execution_count": null,
      "outputs": []
    },
    {
      "cell_type": "code",
      "source": [
        "RocCurveDisplay.from_estimator(grid_search_lr, X_test, y_test)\n",
        "plt.show()"
      ],
      "metadata": {
        "id": "65GedcJt_WzG"
      },
      "execution_count": null,
      "outputs": []
    },
    {
      "cell_type": "markdown",
      "source": [
        "## Decision Tree"
      ],
      "metadata": {
        "id": "oJw_CR4IBAFE"
      }
    },
    {
      "cell_type": "code",
      "source": [
        "dt = DecisionTreeClassifier(random_state = 10)\n",
        "param_grid = {'max_depth': [3, 5, 7, 10],\n",
        "              'min_samples_split': [2, 5, 10],\n",
        "              'min_samples_leaf': [1, 2, 4],\n",
        "              'criterion': ['gini', 'entropy']}\n",
        "cv = StratifiedKFold(n_splits = 3, shuffle = True, random_state = 10)"
      ],
      "metadata": {
        "id": "PC1dx99sA88G"
      },
      "execution_count": null,
      "outputs": []
    },
    {
      "cell_type": "code",
      "source": [
        "# Use GridSearchCV to find the best hyperparameters\n",
        "grid_search_dt = GridSearchCV(dt, param_grid=param_grid, cv=cv, n_jobs=-1, verbose=3)\n",
        "grid_search_dt.fit(X_train, y_train)\n",
        "print(\"Best parameters for decision tree:\")\n",
        "print(grid_search_dt.best_params_)\n",
        "print(\"Best score for decision tree: {:.2f}%\".format(grid_search_dt.best_score_*100))"
      ],
      "metadata": {
        "id": "RRhiO5NdBJ1N"
      },
      "execution_count": null,
      "outputs": []
    },
    {
      "cell_type": "code",
      "source": [
        "# Evaluate the decision tree model's performance on the testing data\n",
        "\n",
        "y_pred_dt = grid_search_dt.predict(X_test)\n",
        "test_accuracy = accuracy_score(y_test, y_pred_dt)\n",
        "print(\"Accuracy of decision tree on testing data: {:.2f}%\".format(test_accuracy*100))\n",
        "print()\n",
        "print(classification_report(y_test, y_pred_dt))"
      ],
      "metadata": {
        "id": "gM3JLIU3BUY0"
      },
      "execution_count": null,
      "outputs": []
    },
    {
      "cell_type": "code",
      "source": [
        "# Calculate the confusion matrix\n",
        "cm_dt = confusion_matrix(y_test,y_pred_dt )\n",
        "\n",
        "# Plot the confusion matrix using Seaborn\n",
        "sns.heatmap(cm_dt, annot=True, cmap=plt.cm.Blues, fmt='g')\n",
        "plt.title('Confusion Matrix (decision tree)', fontsize=16)\n",
        "plt.xlabel('Predicted Label', fontsize=14)\n",
        "plt.ylabel('True Label', fontsize=14)\n",
        "plt.show()"
      ],
      "metadata": {
        "id": "HVd5Do_3CKIv"
      },
      "execution_count": null,
      "outputs": []
    },
    {
      "cell_type": "code",
      "source": [
        "RocCurveDisplay.from_estimator(grid_search_dt, X_test, y_test)\n",
        "plt.show()"
      ],
      "metadata": {
        "id": "gRpEzdo2C6rP"
      },
      "execution_count": null,
      "outputs": []
    },
    {
      "cell_type": "markdown",
      "source": [
        "## Gradient Boosting"
      ],
      "metadata": {
        "id": "oWnQovV6DKQB"
      }
    },
    {
      "cell_type": "code",
      "source": [
        "gbc = GradientBoostingClassifier()\n",
        "\n",
        "param_grid = {\n",
        "    'n_estimators': [100, 200, 300, 400, 500],\n",
        "    'learning_rate': [0.1, 0.01, 0.001],\n",
        "    'max_depth' : [3, 4, 5, 6, 7, 8],\n",
        "    'subsample' : [0.6, 0.7, 0.8, 0.9, 1.0],\n",
        "    'max_features': ['sqrt', 'log2']\n",
        "}\n",
        "\n",
        "cv = StratifiedKFold(n_splits=3, shuffle=True, random_state=50)"
      ],
      "metadata": {
        "id": "oQxLsgaVDJx1"
      },
      "execution_count": null,
      "outputs": []
    },
    {
      "cell_type": "code",
      "source": [
        "grid_search_GB = GridSearchCV(gbc, param_grid = param_grid, cv = cv, n_jobs = -1, verbose = 3)\n",
        "grid_search_GB.fit(X_train, y_train)"
      ],
      "metadata": {
        "id": "jPrYElKQDQnI"
      },
      "execution_count": null,
      "outputs": []
    },
    {
      "cell_type": "code",
      "source": [
        "print(\"Best parameters for Gradient Boosting:\")\n",
        "print(grid_search_GB.best_params_)\n",
        "accuracy = grid_search_GB.best_score_ * 100\n",
        "print(\"Accuracy: {:.2f}%\".format(accuracy))"
      ],
      "metadata": {
        "id": "zvRsQfknDan1"
      },
      "execution_count": null,
      "outputs": []
    },
    {
      "cell_type": "code",
      "source": [
        "y_prediction_GB = grid_search_GB.predict(X_test)\n",
        "test_accuracy = accuracy_score(y_test, y_prediction_GB) * 100\n",
        "print(\"Accuracy of GB is: {:.2f}%\".format(test_accuracy))\n",
        "print()\n",
        "print(classification_report(y_test, y_prediction_GB))"
      ],
      "metadata": {
        "id": "ijY7qzrVGYen"
      },
      "execution_count": null,
      "outputs": []
    },
    {
      "cell_type": "code",
      "source": [
        "# Calculate the confusion matrix\n",
        "cm_gb = confusion_matrix(y_test, y_prediction_GB)\n",
        "\n",
        "# Plot the confusion matrix using Seaborn\n",
        "sns.heatmap(cm_gb, annot=True, cmap=plt.cm.Blues, fmt='g')\n",
        "plt.title('Confusion Matrix (decision tree)', fontsize=16)\n",
        "plt.xlabel('Predicted Label', fontsize=14)\n",
        "plt.ylabel('True Label', fontsize=14)\n",
        "plt.show()"
      ],
      "metadata": {
        "id": "-zxFmCUzG0KJ"
      },
      "execution_count": null,
      "outputs": []
    },
    {
      "cell_type": "code",
      "source": [
        "RocCurveDisplay.from_estimator(grid_search_GB, X_test, y_test)\n",
        "plt.title('Title)', fontsize=16)\n",
        "plt.xlabel('x Label', fontsize=14)\n",
        "plt.ylabel('y Label', fontsize=14)\n",
        "plt.show()"
      ],
      "metadata": {
        "id": "ZFg6asU4G_hj"
      },
      "execution_count": null,
      "outputs": []
    },
    {
      "cell_type": "code",
      "source": [
        "# Plot ROC curves for multiple models on the same graph\n",
        "plt.figure(figsize=(8, 6))\n",
        "\n",
        "# Random Forest\n",
        "RocCurveDisplay.from_estimator(grid_search_RF, X_test, y_test, name=\"Random Forest\", ax=plt.gca())\n",
        "\n",
        "# Logistic Regression\n",
        "RocCurveDisplay.from_estimator(grid_search_lr, X_test, y_test, name=\"Logistic Regression\", ax=plt.gca())\n",
        "\n",
        "# Decision Tree\n",
        "RocCurveDisplay.from_estimator(grid_search_dt, X_test, y_test, name=\"Decision Tree\", ax=plt.gca())\n",
        "\n",
        "# Gradient Boosting\n",
        "RocCurveDisplay.from_estimator(grid_search_GB, X_test, y_test, name=\"Gradient Boosting\", ax=plt.gca())\n",
        "\n",
        "plt.plot([0, 1], [0, 1], linestyle='--', color='black')  # Diagonal line for reference\n",
        "plt.title('ROC Curves for Multiple Models', fontsize=16)\n",
        "plt.xlabel('False Positive Rate', fontsize=14)\n",
        "plt.ylabel('True Positive Rate', fontsize=14)\n",
        "plt.legend(fontsize=12)\n",
        "plt.grid(True)\n",
        "plt.show()\n"
      ],
      "metadata": {
        "id": "b1tdtY84bFSv"
      },
      "execution_count": null,
      "outputs": []
    },
    {
      "cell_type": "markdown",
      "source": [
        "**End**"
      ],
      "metadata": {
        "id": "OGQmK9q_HHOU"
      }
    }
  ]
}